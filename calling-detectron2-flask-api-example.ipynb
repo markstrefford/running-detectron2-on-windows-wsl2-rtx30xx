{
 "cells": [
  {
   "cell_type": "markdown",
   "metadata": {},
   "source": [
    "# Call Detectron2 over API"
   ]
  },
  {
   "cell_type": "code",
   "execution_count": null,
   "metadata": {},
   "outputs": [],
   "source": [
    "host='hostname'\n",
    "port=5000\n",
    "url = f'http://{host}:{port}/api/score-image'\n",
    "IMAGE_PATH='path_to_image'"
   ]
  },
  {
   "cell_type": "code",
   "execution_count": null,
   "metadata": {},
   "outputs": [],
   "source": [
    "import os\n",
    "import numpy as np\n",
    "import cv2\n",
    "from PIL import Image\n",
    "import io\n",
    "import base64\n",
    "from pathlib import Path\n",
    "from datetime import datetime\n",
    "import json\n",
    "import blosc\n",
    "import requests\n",
    "\n",
    "import sys\n",
    "sys.path.append('../')"
   ]
  },
  {
   "cell_type": "code",
   "execution_count": null,
   "metadata": {},
   "outputs": [],
   "source": [
    "with open(<IMAGE_PATH', \"rb\") as image_file:\n",
    "    data = base64.b64encode(image_file.read())"
   ]
  },
  {
   "cell_type": "code",
   "execution_count": null,
   "metadata": {},
   "outputs": [],
   "source": [
    "# Perform segmentation\n",
    "print(f'Starting segmentation call at {datetime.now()}')\n",
    "res = requests.post(url, data=encode_video_frame_as_base64(frame_rear))\n",
    "response_json = json.loads(res.text)\n",
    "print(f'Ending segmentation call at {datetime.now()}')"
   ]
  },
  {
   "cell_type": "code",
   "execution_count": null,
   "metadata": {},
   "outputs": [],
   "source": [
    "print(response_json)"
   ]
  }
 ],
 "metadata": {
  "kernelspec": {
   "display_name": "Python 3",
   "language": "python",
   "name": "python3"
  },
  "language_info": {
   "codemirror_mode": {
    "name": "ipython",
    "version": 3
   },
   "file_extension": ".py",
   "mimetype": "text/x-python",
   "name": "python",
   "nbconvert_exporter": "python",
   "pygments_lexer": "ipython3",
   "version": "3.8.5"
  }
 },
 "nbformat": 4,
 "nbformat_minor": 2
}
